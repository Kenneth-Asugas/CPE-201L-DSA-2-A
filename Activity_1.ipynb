{
  "nbformat": 4,
  "nbformat_minor": 0,
  "metadata": {
    "colab": {
      "provenance": [],
      "authorship_tag": "ABX9TyPC3LJZCje0xK4UqaV92B2C",
      "include_colab_link": true
    },
    "kernelspec": {
      "name": "python3",
      "display_name": "Python 3"
    },
    "language_info": {
      "name": "python"
    }
  },
  "cells": [
    {
      "cell_type": "markdown",
      "metadata": {
        "id": "view-in-github",
        "colab_type": "text"
      },
      "source": [
        "<a href=\"https://colab.research.google.com/github/Kenneth-Asugas/CPE-201L-DSA-2-A/blob/main/Activity_1.ipynb\" target=\"_parent\"><img src=\"https://colab.research.google.com/assets/colab-badge.svg\" alt=\"Open In Colab\"/></a>"
      ]
    },
    {
      "cell_type": "markdown",
      "source": [
        "# Two Ways to Solve the Area of the Circle"
      ],
      "metadata": {
        "id": "QIgy88_73YMh"
      }
    },
    {
      "cell_type": "markdown",
      "source": [
        "When the Given is Radius"
      ],
      "metadata": {
        "id": "fojPjChz30Jx"
      }
    },
    {
      "cell_type": "code",
      "execution_count": 15,
      "metadata": {
        "colab": {
          "base_uri": "https://localhost:8080/"
        },
        "id": "L9naCs92yoh_",
        "outputId": "7a51c1c9-85b0-4206-a8fc-d6e047b77ac1"
      },
      "outputs": [
        {
          "output_type": "stream",
          "name": "stdout",
          "text": [
            "Enter the radius: 5\n",
            "The area of the circle is: 78.53981633974483\n"
          ]
        }
      ],
      "source": [
        "import math\n",
        "\n",
        "radius = input(\"Enter the radius: \")\n",
        "area = math.pi * float(radius)**2\n",
        "print(\"The area of the circle is: \" + str(area))\n"
      ]
    },
    {
      "cell_type": "markdown",
      "source": [
        "When the Given is Diameter"
      ],
      "metadata": {
        "id": "b9ciKfvI3vC4"
      }
    },
    {
      "cell_type": "code",
      "source": [
        "import math\n",
        "\n",
        "diameter = input(\"Enter the diameter: \")\n",
        "area = math.pi * (float(diameter)/2)**2\n",
        "print(\"The area of the circle is: \" + str(area))"
      ],
      "metadata": {
        "colab": {
          "base_uri": "https://localhost:8080/"
        },
        "id": "EdtqfYod1O64",
        "outputId": "85c7e71e-5039-474c-cd3e-c451cdf49f18"
      },
      "execution_count": 17,
      "outputs": [
        {
          "output_type": "stream",
          "name": "stdout",
          "text": [
            "Enter the diameter: 10\n",
            "The area of the circle is: 78.53981633974483\n"
          ]
        }
      ]
    }
  ]
}