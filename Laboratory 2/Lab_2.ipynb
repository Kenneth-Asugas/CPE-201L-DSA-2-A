{
  "nbformat": 4,
  "nbformat_minor": 0,
  "metadata": {
    "colab": {
      "provenance": [],
      "authorship_tag": "ABX9TyPU04gkQjExf+7xl39gBf3b",
      "include_colab_link": true
    },
    "kernelspec": {
      "name": "python3",
      "display_name": "Python 3"
    },
    "language_info": {
      "name": "python"
    }
  },
  "cells": [
    {
      "cell_type": "markdown",
      "metadata": {
        "id": "view-in-github",
        "colab_type": "text"
      },
      "source": [
        "<a href=\"https://colab.research.google.com/github/Kenneth-Asugas/CPE-201L-DSA-2-A/blob/main/Lab_2.ipynb\" target=\"_parent\"><img src=\"https://colab.research.google.com/assets/colab-badge.svg\" alt=\"Open In Colab\"/></a>"
      ]
    },
    {
      "cell_type": "code",
      "execution_count": 1,
      "metadata": {
        "colab": {
          "base_uri": "https://localhost:8080/"
        },
        "id": "nmcd-vetBT2r",
        "outputId": "7800d1fe-fc29-4869-b064-9b4e555a219d"
      },
      "outputs": [
        {
          "output_type": "stream",
          "name": "stdout",
          "text": [
            "Minimum: 1\n",
            "Maximum: 9\n"
          ]
        }
      ],
      "source": [
        "def find_min_max(seq, index=0, current_min=None, current_max=None):\n",
        "    if index == len(seq):\n",
        "        return current_min, current_max\n",
        "\n",
        "    value = seq[index]\n",
        "\n",
        "    if current_min is None or value < current_min:\n",
        "        current_min = value\n",
        "    if current_max is None or value > current_max:\n",
        "        current_max = value\n",
        "\n",
        "    return find_min_max(seq, index + 1, current_min, current_max)\n",
        "\n",
        "# Example usage:\n",
        "numbers = [4, 7, 1, 9, 3, 5]\n",
        "minimum, maximum = find_min_max(numbers)\n",
        "print(\"Minimum:\", minimum)\n",
        "print(\"Maximum:\", maximum)"
      ]
    }
  ]
}
