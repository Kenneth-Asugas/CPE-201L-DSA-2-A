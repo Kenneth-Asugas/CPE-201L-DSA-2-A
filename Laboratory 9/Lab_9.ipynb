{
  "nbformat": 4,
  "nbformat_minor": 0,
  "metadata": {
    "colab": {
      "provenance": [],
      "authorship_tag": "ABX9TyN44mGY+V+b07MUga2CMKcv",
      "include_colab_link": true
    },
    "kernelspec": {
      "name": "python3",
      "display_name": "Python 3"
    },
    "language_info": {
      "name": "python"
    }
  },
  "cells": [
    {
      "cell_type": "markdown",
      "metadata": {
        "id": "view-in-github",
        "colab_type": "text"
      },
      "source": [
        "<a href=\"https://colab.research.google.com/github/Kenneth-Asugas/CPE-201L-DSA-2-A/blob/main/Lab_9.ipynb\" target=\"_parent\"><img src=\"https://colab.research.google.com/assets/colab-badge.svg\" alt=\"Open In Colab\"/></a>"
      ]
    },
    {
      "cell_type": "code",
      "execution_count": 3,
      "metadata": {
        "colab": {
          "base_uri": "https://localhost:8080/"
        },
        "id": "_QSp_zzTjSYp",
        "outputId": "35d5d5d8-32a2-4d9a-f143-8cea84f171ed"
      },
      "outputs": [
        {
          "output_type": "stream",
          "name": "stdout",
          "text": [
            "Enqueued Element: 1\n",
            "Enqueued Element: 2\n",
            "Enqueued Element: 3\n",
            "Enqueued Element: 4\n",
            "Enqueued Element: 5\n",
            "The elements in the queue are: ['1', '2', '3', '4', '5']\n",
            "Dequeued Element: 1\n",
            "Dequeued Element: 2\n",
            "The queue after dequeuing: ['3', '4', '5']\n"
          ]
        }
      ],
      "source": [
        "def create_queue():\n",
        "    queue = []\n",
        "    return queue\n",
        "\n",
        "def is_empty(queue):\n",
        "    return len(queue) == 0\n",
        "\n",
        "def enqueue(queue, item):\n",
        "    queue.append(item)\n",
        "    print(\"Enqueued Element:\", item)\n",
        "\n",
        "def dequeue(queue):\n",
        "    if is_empty(queue):\n",
        "        return \"The queue is empty\"\n",
        "    return queue.pop(0)\n",
        "\n",
        "queue = create_queue()\n",
        "enqueue(queue, \"1\")\n",
        "enqueue(queue, \"2\")\n",
        "enqueue(queue, \"3\")\n",
        "enqueue(queue, \"4\")\n",
        "enqueue(queue, \"5\")\n",
        "\n",
        "print(\"The elements in the queue are:\", queue)\n",
        "print(\"Dequeued Element:\", dequeue(queue))\n",
        "print(\"Dequeued Element:\", dequeue(queue))\n",
        "print(\"The queue after dequeuing:\", queue)\n"
      ]
    }
  ]
}
