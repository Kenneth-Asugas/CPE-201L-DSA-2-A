{
  "nbformat": 4,
  "nbformat_minor": 0,
  "metadata": {
    "colab": {
      "provenance": [],
      "authorship_tag": "ABX9TyN1E5trCsB1mnYyVaN99wWj",
      "include_colab_link": true
    },
    "kernelspec": {
      "name": "python3",
      "display_name": "Python 3"
    },
    "language_info": {
      "name": "python"
    }
  },
  "cells": [
    {
      "cell_type": "markdown",
      "metadata": {
        "id": "view-in-github",
        "colab_type": "text"
      },
      "source": [
        "<a href=\"https://colab.research.google.com/github/Kenneth-Asugas/CPE-201L-DSA-2-A/blob/main/Midterm_Test_Skill_Source_Code.ipynb\" target=\"_parent\"><img src=\"https://colab.research.google.com/assets/colab-badge.svg\" alt=\"Open In Colab\"/></a>"
      ]
    },
    {
      "cell_type": "code",
      "source": [
        "class Node:\n",
        "    def __init__(self, data=None):\n",
        "        self.data = data\n",
        "        self.next = None\n",
        "\n",
        "def display_linked_list(head):\n",
        "    current = head\n",
        "    while current:\n",
        "        print(current.data, end=\" -> \" if current.next else \"\")\n",
        "        current = current.next\n",
        "    print(\" -> None\")\n",
        "\n",
        "node1 = Node(1)\n",
        "node2 = Node(3)\n",
        "node3 = Node(5)\n",
        "node4 = Node(7)\n",
        "node5 = Node(9)\n",
        "node6 = Node(11)\n",
        "node7 = Node(13)\n",
        "node8 = Node(15)\n",
        "node9 = Node(17)\n",
        "node10 = Node(19)\n",
        "node11 = Node(21)\n",
        "node12 = Node(23)\n",
        "node13 = Node(25)\n",
        "node14 = Node(27)\n",
        "node15 = Node(29)\n",
        "\n",
        "head = node1\n",
        "node1.next = node2\n",
        "node2.next = node3\n",
        "node3.next = node4\n",
        "node4.next = node5\n",
        "node5.next = node6\n",
        "node6.next = node7\n",
        "node7.next = node8\n",
        "node8.next = node9\n",
        "node9.next = node10\n",
        "node10.next = node11\n",
        "node11.next = node12\n",
        "node12.next = node13\n",
        "node13.next = node14\n",
        "node14.next = node15\n",
        "\n",
        "print(\"Displaying the Data:\")\n",
        "display_linked_list(head)\n",
        "\n",
        "def append_to_linked_list(head, data):\n",
        "    new_node = Node(data)\n",
        "    if not head:\n",
        "        return new_node\n",
        "    last_node = head\n",
        "    while last_node.next:\n",
        "        last_node = last_node.next\n",
        "    last_node.next = new_node\n",
        "    return head\n",
        "\n",
        "def delete_from_linked_list(head, data):\n",
        "    current = head\n",
        "    if current and current.data == data:\n",
        "        head = current.next\n",
        "        current = None\n",
        "        return head\n",
        "\n",
        "    prev = None\n",
        "    while current and current.data != data:\n",
        "        prev = current\n",
        "        current = current.next\n",
        "\n",
        "    if current is None:\n",
        "        return head\n",
        "\n",
        "    prev.next = current.next\n",
        "    current = None\n",
        "    return head\n",
        "\n",
        "head = append_to_linked_list(head, 31)\n",
        "print(\"\\nAfter appending 31:\")\n",
        "display_linked_list(head)\n",
        "\n",
        "head = delete_from_linked_list(head, 17)\n",
        "print(\"\\nAfter deleting 17:\")\n",
        "display_linked_list(head)"
      ],
      "metadata": {
        "id": "VTTfr-sfDMsl",
        "colab": {
          "base_uri": "https://localhost:8080/"
        },
        "outputId": "da874be2-b9f4-442c-de7a-297617547c94"
      },
      "execution_count": 24,
      "outputs": [
        {
          "output_type": "stream",
          "name": "stdout",
          "text": [
            "Displaying the Data:\n",
            "1 -> 3 -> 5 -> 7 -> 9 -> 11 -> 13 -> 15 -> 17 -> 19 -> 21 -> 23 -> 25 -> 27 -> 29 -> None\n",
            "\n",
            "After appending 31:\n",
            "1 -> 3 -> 5 -> 7 -> 9 -> 11 -> 13 -> 15 -> 17 -> 19 -> 21 -> 23 -> 25 -> 27 -> 29 -> 31 -> None\n",
            "\n",
            "After deleting 17:\n",
            "1 -> 3 -> 5 -> 7 -> 9 -> 11 -> 13 -> 15 -> 19 -> 21 -> 23 -> 25 -> 27 -> 29 -> 31 -> None\n"
          ]
        }
      ]
    }
  ]
}
