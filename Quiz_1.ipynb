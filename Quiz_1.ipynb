{
  "nbformat": 4,
  "nbformat_minor": 0,
  "metadata": {
    "colab": {
      "provenance": [],
      "authorship_tag": "ABX9TyNVOmFlHHVQIyq7glD7jO8I",
      "include_colab_link": true
    },
    "kernelspec": {
      "name": "python3",
      "display_name": "Python 3"
    },
    "language_info": {
      "name": "python"
    }
  },
  "cells": [
    {
      "cell_type": "markdown",
      "metadata": {
        "id": "view-in-github",
        "colab_type": "text"
      },
      "source": [
        "<a href=\"https://colab.research.google.com/github/Kenneth-Asugas/CPE-201L-DSA-2-A/blob/main/Quiz_1.ipynb\" target=\"_parent\"><img src=\"https://colab.research.google.com/assets/colab-badge.svg\" alt=\"Open In Colab\"/></a>"
      ]
    },
    {
      "cell_type": "code",
      "execution_count": 15,
      "metadata": {
        "colab": {
          "base_uri": "https://localhost:8080/"
        },
        "id": "2kywTB4UVMf_",
        "outputId": "da05403b-ab70-4829-9246-9549ef0ceb77"
      },
      "outputs": [
        {
          "output_type": "stream",
          "name": "stdout",
          "text": [
            "Enter your Fullname: Kenneth Asugas\n",
            "\n",
            "Traversing characters in your name:\n",
            "K\n",
            "e\n",
            "n\n",
            "n\n",
            "e\n",
            "t\n",
            "h\n",
            " \n",
            "A\n",
            "s\n",
            "u\n",
            "g\n",
            "a\n",
            "s\n"
          ]
        }
      ],
      "source": [
        "from collections import deque\n",
        "\n",
        "def main():\n",
        "  fullname = input(\"Enter your Fullname: \")\n",
        "\n",
        "  queue = deque()\n",
        "\n",
        "  for ch in fullname:\n",
        "    queue.append(ch)\n",
        "\n",
        "  print(\"\\nTraversing characters in your name:\")\n",
        "  while queue:\n",
        "    ch = queue.popleft()\n",
        "    print(ch)\n",
        "\n",
        "main()"
      ]
    },
    {
      "cell_type": "code",
      "source": [
        "class Queue:\n",
        "    def __init__(self):\n",
        "        self.queue = []\n",
        "\n",
        "    def enqueue(self, dataval):\n",
        "        self.queue.append(dataval)\n",
        "\n",
        "    def dequeue(self):\n",
        "        if len(self.queue) <= 0:\n",
        "            return \"Queue is empty\"\n",
        "        else:\n",
        "            return self.queue.pop(0)\n",
        "\n",
        "    def traverse(self):\n",
        "        print(\"Traversing characters in the queue:\")\n",
        "        for item in self.queue:\n",
        "            print(item)\n",
        "\n",
        "\n",
        "fullname = [\"K\",\"E\",\"N\",\"N\",\"E\",\"T\",\"H\",\" \",\"R\",\"A\",\"F\",\"E\",\"R\",\" \",\"A\",\"S\",\"U\",\"G\",\"A\",\"S\"]\n",
        "AQueue = Queue()\n",
        "\n",
        "for ch in fullname:\n",
        "    AQueue.enqueue(ch)\n",
        "\n",
        "AQueue.traverse()"
      ],
      "metadata": {
        "colab": {
          "base_uri": "https://localhost:8080/"
        },
        "id": "MXOU-0GbZflK",
        "outputId": "4d7080c6-f1ee-4601-9754-a601b9118c76"
      },
      "execution_count": 20,
      "outputs": [
        {
          "output_type": "stream",
          "name": "stdout",
          "text": [
            "Traversing characters in the queue:\n",
            "K\n",
            "E\n",
            "N\n",
            "N\n",
            "E\n",
            "T\n",
            "H\n",
            " \n",
            "R\n",
            "A\n",
            "F\n",
            "E\n",
            "R\n",
            " \n",
            "A\n",
            "S\n",
            "U\n",
            "G\n",
            "A\n",
            "S\n"
          ]
        }
      ]
    }
  ]
}